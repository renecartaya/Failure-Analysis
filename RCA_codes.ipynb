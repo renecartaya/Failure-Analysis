{
 "cells": [
  {
   "cell_type": "code",
   "execution_count": null,
   "id": "5e5b3bdc-6f37-4af0-90da-4f8cb369fbca",
   "metadata": {},
   "outputs": [],
   "source": [
    "###########################################################################\n",
    "#\n",
    "#       Sample of program for RCA using Principal Componen Analysis (PCA) \n",
    "#         PCA is a Machine Learning algoritm  \n",
    "#\n",
    "############################################################################"
   ]
  },
  {
   "cell_type": "code",
   "execution_count": 23,
   "id": "4ba4146c-28a9-496b-aa9f-44a3fe68767c",
   "metadata": {},
   "outputs": [],
   "source": [
    "# Packages\n",
    "import sklearn\n",
    "import matplotlib.pyplot as plt\n",
    "import matplotlib.axes as ax\n",
    "import matplotlib\n",
    "import numpy as np"
   ]
  },
  {
   "cell_type": "code",
   "execution_count": 27,
   "id": "89d11e75-d129-460c-bd3d-58deab010f7c",
   "metadata": {},
   "outputs": [],
   "source": [
    "# Apply PCA on the dataset using the pre-cooked PCA \n",
    "# model available in scikit learn package in python\n",
    "\n",
    "def apply_PCA(X_data):\n",
    "    scaler = StandardScaler()\n",
    "    X_train = scaler.fit_transform(X_data)\n",
    "# X_test = scaler.transform(X_test)\n",
    "\n",
    "    apply_PCA.pca = PCA()\n",
    "    apply_PCA.pca.fit(X_data)\n",
    "    Xp_data = apply_PCA.pca.transform(X_data)\n",
    "    \n",
    "    components = apply_PCA.pca.components_\n",
    "    explained_variance_ratio = apply_PCA.pca.explained_variance_ratio_\n",
    "    explained_variance = apply_PCA.pca.explained_variance_[0:5]\n",
    "    n_components = apply_PCA.pca.n_components_\n",
    "    \n",
    "    return Xp_data, components, explained_variance_ratio, explained_variance, n_components"
   ]
  },
  {
   "cell_type": "code",
   "execution_count": 31,
   "id": "8f93708c-8ecd-4bcf-b49a-64512465974e",
   "metadata": {},
   "outputs": [],
   "source": [
    "# Get the information about the captured variance, feature importance or eigen \n",
    "# alues corresponding to the principal components.\n",
    "\n",
    "def plot_PC_variance(X_data, explained_variance_ratio):\n",
    "    Np_comp = (1, len(X_data.columns),1)\n",
    "    fig,ax=plt.subplots(1,1,figsize=(10,10))\n",
    "    plt.figure(4)\n",
    "    ax.set_xlabel('Principal Components')\n",
    "    ax.set_ylabel('Explained Variance')\n",
    "    \n",
    "    ax.plot(np.arange(Np), explained_variance_ratio[0:Np], label = 'variance explained by each component')\n",
    "    ax.bar(np.arange(Np), explained_variance_ratio[0:Np], label = 'Bar plot for explained var for each camp')\n",
    "    ax.plot(np.arange(Np), explained_variance_ratio[0:Np], label = 'Cumulative variance explained')\n",
    "    ax.legend(loc = 'upper left')"
   ]
  },
  {
   "cell_type": "code",
   "execution_count": 36,
   "id": "b427d75e-36a2-4b99-9687-a230a882753a",
   "metadata": {},
   "outputs": [],
   "source": [
    "def plot_PC(X_data, components):\n",
    "    fig.ax=plt.subplots(1,1,figsize=(10,10))\n",
    "    plt.figure(5)\n",
    "    \n",
    "    ax.set_xlabel(\"Principal Components 1\", fontsize = 14)\n",
    "    ax.set_ylabel(\"Principal Components 1\", fontsize = 14)\n",
    "    ax.set_title(\"Principal Components 1 & 2\", fontsize = (20))\n",
    "    ax.scatter(components[:,1],components[:,2])"
   ]
  },
  {
   "cell_type": "code",
   "execution_count": 20,
   "id": "f76afec8-1075-443f-a3a4-89fbcacbc208",
   "metadata": {},
   "outputs": [],
   "source": []
  },
  {
   "cell_type": "code",
   "execution_count": null,
   "id": "68f7eada-bf47-46f5-b70a-ce091f2b9a4c",
   "metadata": {},
   "outputs": [],
   "source": []
  }
 ],
 "metadata": {
  "kernelspec": {
   "display_name": "Python 3 (ipykernel)",
   "language": "python",
   "name": "python3"
  },
  "language_info": {
   "codemirror_mode": {
    "name": "ipython",
    "version": 3
   },
   "file_extension": ".py",
   "mimetype": "text/x-python",
   "name": "python",
   "nbconvert_exporter": "python",
   "pygments_lexer": "ipython3",
   "version": "3.9.7"
  }
 },
 "nbformat": 4,
 "nbformat_minor": 5
}
